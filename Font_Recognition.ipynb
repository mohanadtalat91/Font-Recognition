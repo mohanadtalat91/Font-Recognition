{
  "cells": [
    {
      "cell_type": "code",
      "source": [
        "import tensorflow as tf"
      ],
      "metadata": {
        "id": "iRWhpD4qyDdG"
      },
      "execution_count": 1,
      "outputs": []
    },
    {
      "cell_type": "code",
      "execution_count": 2,
      "metadata": {
        "id": "hUkBRdY8ndhZ",
        "scrolled": true
      },
      "outputs": [],
      "source": [
        "from matplotlib.pyplot import imshow\n",
        "import matplotlib.cm as cm\n",
        "import matplotlib.pylab as plt\n",
        "from tensorflow.keras.preprocessing.image import ImageDataGenerator\n",
        "import numpy as np\n",
        "import PIL\n",
        "from PIL import Image\n",
        "from PIL import ImageFilter\n",
        "import cv2\n",
        "import itertools\n",
        "import random\n",
        "import keras\n",
        "import imutils\n",
        "from imutils import paths\n",
        "import os\n",
        "from tensorflow.keras import optimizers\n",
        "from tensorflow.keras.preprocessing.image import img_to_array\n",
        "from sklearn.model_selection import train_test_split\n",
        "from tensorflow.keras.utils import to_categorical\n",
        "from tensorflow.keras import callbacks\n",
        "from tensorflow.keras.models import Sequential\n",
        "from tensorflow.keras.layers import BatchNormalization\n",
        "from tensorflow.keras.layers import Dense, Dropout, Flatten\n",
        "from tensorflow.keras.layers import Conv2D, MaxPooling2D , UpSampling2D ,Conv2DTranspose\n",
        "from tensorflow.keras import backend as K\n",
        "\n",
        "%matplotlib inline"
      ]
    },
    {
      "cell_type": "code",
      "source": [
        "assert 'COLAB_TPU_ADDR' in os.environ, 'Missing TPU; did you request a TPU in Notebook Settings?'\n",
        "\n",
        "if 'COLAB_TPU_ADDR' in os.environ:\n",
        "  TF_MASTER = 'grpc://{}'.format(os.environ['COLAB_TPU_ADDR'])\n",
        "else:\n",
        "  TF_MASTER=''\n",
        "\n",
        "tpu_address = TF_MASTER"
      ],
      "metadata": {
        "id": "qkbA_iB9XL-X"
      },
      "execution_count": 3,
      "outputs": []
    },
    {
      "cell_type": "code",
      "source": [
        "resolver = tf.distribute.cluster_resolver.TPUClusterResolver(tpu_address)\n",
        "tf.config.experimental_connect_to_cluster(resolver)\n",
        "tf.tpu.experimental.initialize_tpu_system(resolver)\n",
        "print(\"All devices: \", tf.config.list_logical_devices('TPU'))\n",
        "print(\"Number of devices: \", len(tf.config.list_logical_devices('TPU')))"
      ],
      "metadata": {
        "colab": {
          "base_uri": "https://localhost:8080/"
        },
        "id": "4qgw10dCXS3k",
        "outputId": "802d498c-7c47-42c4-9080-0811f23f3eeb"
      },
      "execution_count": 4,
      "outputs": [
        {
          "output_type": "stream",
          "name": "stdout",
          "text": [
            "All devices:  [LogicalDevice(name='/job:worker/replica:0/task:0/device:TPU:0', device_type='TPU'), LogicalDevice(name='/job:worker/replica:0/task:0/device:TPU:1', device_type='TPU'), LogicalDevice(name='/job:worker/replica:0/task:0/device:TPU:2', device_type='TPU'), LogicalDevice(name='/job:worker/replica:0/task:0/device:TPU:3', device_type='TPU'), LogicalDevice(name='/job:worker/replica:0/task:0/device:TPU:4', device_type='TPU'), LogicalDevice(name='/job:worker/replica:0/task:0/device:TPU:5', device_type='TPU'), LogicalDevice(name='/job:worker/replica:0/task:0/device:TPU:6', device_type='TPU'), LogicalDevice(name='/job:worker/replica:0/task:0/device:TPU:7', device_type='TPU')]\n",
            "Number of devices:  8\n"
          ]
        }
      ]
    },
    {
      "cell_type": "code",
      "source": [
        "strategy = tf.distribute.TPUStrategy(resolver)"
      ],
      "metadata": {
        "id": "Y9KCHCf3XjVZ"
      },
      "execution_count": 5,
      "outputs": []
    },
    {
      "cell_type": "code",
      "source": [
        "from google.colab import drive\n",
        "drive.mount('/content/drive')"
      ],
      "metadata": {
        "colab": {
          "base_uri": "https://localhost:8080/"
        },
        "id": "5TbCBRSGwbke",
        "outputId": "3770ae51-8f9c-4190-ddb1-cb4c3ebd8e9d"
      },
      "execution_count": 6,
      "outputs": [
        {
          "output_type": "stream",
          "name": "stdout",
          "text": [
            "Drive already mounted at /content/drive; to attempt to forcibly remount, call drive.mount(\"/content/drive\", force_remount=True).\n"
          ]
        }
      ]
    },
    {
      "cell_type": "code",
      "execution_count": 7,
      "metadata": {
        "id": "JHEynQv2ndhn"
      },
      "outputs": [],
      "source": [
        "def pil_image(img_path):\n",
        "    pil_im =PIL.Image.open(img_path).convert('L')\n",
        "    pil_im=pil_im.resize((105,105))\n",
        "    #imshow(np.asarray(pil_im))\n",
        "    return pil_im"
      ]
    },
    {
      "cell_type": "markdown",
      "metadata": {
        "id": "1hbTCU2qndht"
      },
      "source": [
        "# Augumentation Steps \n",
        "\n",
        "* Noise\n",
        "\n",
        "* Blur\n",
        "\n",
        "* Perpective Rotation\n",
        "\n",
        "* Shading\n",
        "\n",
        "*  Variable Character Spacing\n",
        "\n",
        "*  Variable Aspect Ratio"
      ]
    },
    {
      "cell_type": "markdown",
      "metadata": {
        "id": "bQevV_gkwIHS"
      },
      "source": [
        "## Noise"
      ]
    },
    {
      "cell_type": "code",
      "execution_count": 8,
      "metadata": {
        "id": "MLCHbBKsndhv"
      },
      "outputs": [],
      "source": [
        "def noise_image(pil_im):\n",
        "    # Adding Noise to image\n",
        "    img_array = np.asarray(pil_im)\n",
        "    mean = 0.0   # some constant\n",
        "    std = 5   # some constant (standard deviation)\n",
        "    noisy_img = img_array + np.random.normal(mean, std, img_array.shape)\n",
        "    noisy_img_clipped = np.clip(noisy_img, 0, 255)\n",
        "    noise_img = PIL.Image.fromarray(np.uint8(noisy_img_clipped)) # output\n",
        "    #imshow((noisy_img_clipped ).astype(np.uint8))\n",
        "    noise_img=noise_img.resize((105,105))\n",
        "    return noise_img"
      ]
    },
    {
      "cell_type": "code",
      "execution_count": 9,
      "metadata": {
        "id": "5TPvDBV5ndh2"
      },
      "outputs": [],
      "source": [
        "def blur_image(pil_im):\n",
        "    #Adding Blur to image \n",
        "    blur_img = pil_im.filter(ImageFilter.GaussianBlur(radius=3)) # ouput\n",
        "    #imshow(blur_img)\n",
        "    blur_img=blur_img.resize((105,105))\n",
        "    return blur_img"
      ]
    },
    {
      "cell_type": "code",
      "execution_count": 10,
      "metadata": {
        "id": "CIDSvv7Qndh6"
      },
      "outputs": [],
      "source": [
        "def affine_rotation(img):\n",
        "    \n",
        "    #img=cv2.imread(img_path,0)\n",
        "    rows, columns = img.shape\n",
        "\n",
        "    point1 = np.float32([[10, 10], [30, 10], [10, 30]])\n",
        "    point2 = np.float32([[20, 15], [40, 10], [20, 40]])\n",
        "\n",
        "    A = cv2.getAffineTransform(point1, point2)\n",
        "\n",
        "    output = cv2.warpAffine(img, A, (columns, rows))\n",
        "    affine_img = PIL.Image.fromarray(np.uint8(output)) # affine rotated output\n",
        "    #imshow(output)\n",
        "    affine_img=affine_img.resize((105,105))\n",
        "    return affine_img\n",
        "   "
      ]
    },
    {
      "cell_type": "code",
      "execution_count": 11,
      "metadata": {
        "id": "VCy6ReUNndh_"
      },
      "outputs": [],
      "source": [
        "def gradient_fill(image):\n",
        "    #image=cv2.imread(img_path,0)\n",
        "    laplacian = cv2.Laplacian(image,cv2.CV_64F)\n",
        "    laplacian = cv2.resize(laplacian, (105, 105))\n",
        "    return laplacian"
      ]
    },
    {
      "cell_type": "markdown",
      "metadata": {
        "id": "OBLjVHT9ndiF"
      },
      "source": [
        "## Preparing Dataset"
      ]
    },
    {
      "cell_type": "code",
      "execution_count": 12,
      "metadata": {
        "id": "6hc1RAaVndiI"
      },
      "outputs": [],
      "source": [
        "data_path = \"drive/MyDrive/font_patch/\"\n",
        "data=[]\n",
        "labels=[]\n",
        "imagePaths = sorted(list(paths.list_images(data_path)))\n",
        "random.seed(42)\n",
        "random.shuffle(imagePaths)"
      ]
    },
    {
      "cell_type": "code",
      "execution_count": 13,
      "metadata": {
        "id": "HYYzr_c1ndiN"
      },
      "outputs": [],
      "source": [
        "def conv_label(label):\n",
        "    if label == 'Lato':\n",
        "        return 0\n",
        "    elif label == 'Raleway':\n",
        "        return 1\n",
        "    elif label == 'Roboto':\n",
        "        return 2\n",
        "    elif label == 'Sansation':\n",
        "        return 3\n",
        "    elif label == 'Walkway':\n",
        "        return 4"
      ]
    },
    {
      "cell_type": "code",
      "execution_count": 14,
      "metadata": {
        "colab": {
          "base_uri": "https://localhost:8080/"
        },
        "id": "L5emmKqjd-3Q",
        "outputId": "92e29eb0-2f48-4675-b816-544ace1808b6"
      },
      "outputs": [
        {
          "output_type": "stream",
          "name": "stdout",
          "text": [
            "['blur', 'noise', 'affine', 'gradient']\n"
          ]
        }
      ],
      "source": [
        "augument=[\"blur\",\"noise\",\"affine\",\"gradient\"]\n",
        "a=itertools.combinations(augument, 4)\n",
        "\n",
        "for i in list(a): \n",
        "    print(list(i))"
      ]
    },
    {
      "cell_type": "code",
      "execution_count": 15,
      "metadata": {
        "colab": {
          "base_uri": "https://localhost:8080/"
        },
        "id": "PIc22kLf4SAP",
        "outputId": "bc2adc16-346c-4911-ac70-13210ad0336e"
      },
      "outputs": [
        {
          "output_type": "stream",
          "name": "stdout",
          "text": [
            "1\n",
            "1\n",
            "1\n",
            "1\n",
            "2\n",
            "2\n",
            "2\n",
            "2\n",
            "2\n",
            "2\n",
            "3\n",
            "3\n",
            "3\n",
            "3\n",
            "4\n",
            "1\n",
            "1\n",
            "1\n",
            "1\n",
            "2\n",
            "2\n",
            "2\n",
            "2\n",
            "2\n",
            "2\n",
            "3\n",
            "3\n",
            "3\n",
            "3\n",
            "4\n",
            "1\n",
            "1\n",
            "1\n",
            "1\n",
            "2\n",
            "2\n",
            "2\n",
            "2\n",
            "2\n",
            "2\n",
            "3\n",
            "3\n",
            "3\n",
            "3\n",
            "4\n",
            "1\n",
            "1\n",
            "1\n",
            "1\n",
            "2\n",
            "2\n",
            "2\n",
            "2\n",
            "2\n",
            "2\n",
            "3\n",
            "3\n",
            "3\n",
            "3\n",
            "4\n",
            "1\n",
            "1\n",
            "1\n",
            "1\n",
            "2\n",
            "2\n",
            "2\n",
            "2\n",
            "2\n",
            "2\n",
            "3\n",
            "3\n",
            "3\n",
            "3\n",
            "4\n",
            "1\n",
            "1\n",
            "1\n",
            "1\n",
            "2\n",
            "2\n",
            "2\n",
            "2\n",
            "2\n",
            "2\n",
            "3\n",
            "3\n",
            "3\n",
            "3\n",
            "4\n",
            "1\n",
            "1\n",
            "1\n",
            "1\n",
            "2\n",
            "2\n",
            "2\n",
            "2\n",
            "2\n",
            "2\n",
            "3\n",
            "3\n",
            "3\n",
            "3\n",
            "4\n",
            "1\n",
            "1\n",
            "1\n",
            "1\n",
            "2\n",
            "2\n",
            "2\n",
            "2\n",
            "2\n",
            "2\n",
            "3\n",
            "3\n",
            "3\n",
            "3\n",
            "4\n",
            "1\n",
            "1\n",
            "1\n",
            "1\n",
            "2\n",
            "2\n",
            "2\n",
            "2\n",
            "2\n",
            "2\n",
            "3\n",
            "3\n",
            "3\n",
            "3\n",
            "4\n",
            "1\n",
            "1\n",
            "1\n",
            "1\n",
            "2\n",
            "2\n",
            "2\n",
            "2\n",
            "2\n",
            "2\n",
            "3\n",
            "3\n",
            "3\n",
            "3\n",
            "4\n",
            "1\n",
            "1\n",
            "1\n",
            "1\n",
            "2\n",
            "2\n",
            "2\n",
            "2\n",
            "2\n",
            "2\n",
            "3\n",
            "3\n",
            "3\n",
            "3\n",
            "4\n",
            "1\n",
            "1\n",
            "1\n",
            "1\n",
            "2\n",
            "2\n",
            "2\n",
            "2\n",
            "2\n",
            "2\n",
            "3\n",
            "3\n",
            "3\n",
            "3\n",
            "4\n",
            "1\n",
            "1\n",
            "1\n",
            "1\n",
            "2\n",
            "2\n",
            "2\n",
            "2\n",
            "2\n",
            "2\n",
            "3\n",
            "3\n",
            "3\n",
            "3\n",
            "4\n",
            "1\n",
            "1\n",
            "1\n",
            "1\n",
            "2\n",
            "2\n",
            "2\n",
            "2\n",
            "2\n",
            "2\n",
            "3\n",
            "3\n",
            "3\n",
            "3\n",
            "4\n",
            "1\n",
            "1\n",
            "1\n",
            "1\n",
            "2\n",
            "2\n",
            "2\n",
            "2\n",
            "2\n",
            "2\n",
            "3\n",
            "3\n",
            "3\n",
            "3\n",
            "4\n",
            "1\n",
            "1\n",
            "1\n",
            "1\n",
            "2\n",
            "2\n",
            "2\n",
            "2\n",
            "2\n",
            "2\n",
            "3\n",
            "3\n",
            "3\n",
            "3\n",
            "4\n",
            "1\n",
            "1\n",
            "1\n",
            "1\n",
            "2\n",
            "2\n",
            "2\n",
            "2\n",
            "2\n",
            "2\n",
            "3\n",
            "3\n",
            "3\n",
            "3\n",
            "4\n",
            "1\n",
            "1\n",
            "1\n",
            "1\n",
            "2\n",
            "2\n",
            "2\n",
            "2\n",
            "2\n",
            "2\n",
            "3\n",
            "3\n",
            "3\n",
            "3\n",
            "4\n",
            "1\n",
            "1\n",
            "1\n",
            "1\n",
            "2\n",
            "2\n",
            "2\n",
            "2\n",
            "2\n",
            "2\n",
            "3\n",
            "3\n",
            "3\n",
            "3\n",
            "4\n",
            "1\n",
            "1\n",
            "1\n",
            "1\n",
            "2\n",
            "2\n",
            "2\n",
            "2\n",
            "2\n",
            "2\n",
            "3\n",
            "3\n",
            "3\n",
            "3\n",
            "4\n",
            "1\n",
            "1\n",
            "1\n",
            "1\n",
            "2\n",
            "2\n",
            "2\n",
            "2\n",
            "2\n",
            "2\n",
            "3\n",
            "3\n",
            "3\n",
            "3\n",
            "4\n",
            "1\n",
            "1\n",
            "1\n",
            "1\n",
            "2\n",
            "2\n",
            "2\n",
            "2\n",
            "2\n",
            "2\n",
            "3\n",
            "3\n",
            "3\n",
            "3\n",
            "4\n",
            "1\n",
            "1\n",
            "1\n",
            "1\n",
            "2\n",
            "2\n",
            "2\n",
            "2\n",
            "2\n",
            "2\n",
            "3\n",
            "3\n",
            "3\n",
            "3\n",
            "4\n",
            "1\n",
            "1\n",
            "1\n",
            "1\n",
            "2\n",
            "2\n",
            "2\n",
            "2\n",
            "2\n",
            "2\n",
            "3\n",
            "3\n",
            "3\n",
            "3\n",
            "4\n",
            "1\n",
            "1\n",
            "1\n",
            "1\n",
            "2\n",
            "2\n",
            "2\n",
            "2\n",
            "2\n",
            "2\n",
            "3\n",
            "3\n",
            "3\n",
            "3\n",
            "4\n",
            "1\n",
            "1\n",
            "1\n",
            "1\n",
            "2\n",
            "2\n",
            "2\n",
            "2\n",
            "2\n",
            "2\n",
            "3\n",
            "3\n",
            "3\n",
            "3\n",
            "4\n",
            "1\n",
            "1\n",
            "1\n",
            "1\n",
            "2\n",
            "2\n",
            "2\n",
            "2\n",
            "2\n",
            "2\n",
            "3\n",
            "3\n",
            "3\n",
            "3\n",
            "4\n",
            "1\n",
            "1\n",
            "1\n",
            "1\n",
            "2\n",
            "2\n",
            "2\n",
            "2\n",
            "2\n",
            "2\n",
            "3\n",
            "3\n",
            "3\n",
            "3\n",
            "4\n",
            "1\n",
            "1\n",
            "1\n",
            "1\n",
            "2\n",
            "2\n",
            "2\n",
            "2\n",
            "2\n",
            "2\n",
            "3\n",
            "3\n",
            "3\n",
            "3\n",
            "4\n",
            "1\n",
            "1\n",
            "1\n",
            "1\n",
            "2\n",
            "2\n",
            "2\n",
            "2\n",
            "2\n",
            "2\n",
            "3\n",
            "3\n",
            "3\n",
            "3\n",
            "4\n",
            "1\n",
            "1\n",
            "1\n",
            "1\n",
            "2\n",
            "2\n",
            "2\n",
            "2\n",
            "2\n",
            "2\n",
            "3\n",
            "3\n",
            "3\n",
            "3\n",
            "4\n",
            "1\n",
            "1\n",
            "1\n",
            "1\n",
            "2\n",
            "2\n",
            "2\n",
            "2\n",
            "2\n",
            "2\n",
            "3\n",
            "3\n",
            "3\n",
            "3\n",
            "4\n",
            "1\n",
            "1\n",
            "1\n",
            "1\n",
            "2\n",
            "2\n",
            "2\n",
            "2\n",
            "2\n",
            "2\n",
            "3\n",
            "3\n",
            "3\n",
            "3\n",
            "4\n",
            "1\n",
            "1\n",
            "1\n",
            "1\n",
            "2\n",
            "2\n",
            "2\n",
            "2\n",
            "2\n",
            "2\n",
            "3\n",
            "3\n",
            "3\n",
            "3\n",
            "4\n",
            "1\n",
            "1\n",
            "1\n",
            "1\n",
            "2\n",
            "2\n",
            "2\n",
            "2\n",
            "2\n",
            "2\n",
            "3\n",
            "3\n",
            "3\n",
            "3\n",
            "4\n",
            "1\n",
            "1\n",
            "1\n",
            "1\n",
            "2\n",
            "2\n",
            "2\n",
            "2\n",
            "2\n",
            "2\n",
            "3\n",
            "3\n",
            "3\n",
            "3\n",
            "4\n",
            "1\n",
            "1\n",
            "1\n",
            "1\n",
            "2\n",
            "2\n",
            "2\n",
            "2\n",
            "2\n",
            "2\n",
            "3\n",
            "3\n",
            "3\n",
            "3\n",
            "4\n",
            "1\n",
            "1\n",
            "1\n",
            "1\n",
            "2\n",
            "2\n",
            "2\n",
            "2\n",
            "2\n",
            "2\n",
            "3\n",
            "3\n",
            "3\n",
            "3\n",
            "4\n",
            "1\n",
            "1\n",
            "1\n",
            "1\n",
            "2\n",
            "2\n",
            "2\n",
            "2\n",
            "2\n",
            "2\n",
            "3\n",
            "3\n",
            "3\n",
            "3\n",
            "4\n"
          ]
        }
      ],
      "source": [
        "counter=0\n",
        "for imagePath in imagePaths:\n",
        "    label = imagePath.split(os.path.sep)[-2]\n",
        "    label = conv_label(label)\n",
        "    pil_img = pil_image(imagePath)\n",
        "    #imshow(pil_img)\n",
        "    \n",
        "    # Adding original image\n",
        "    org_img = img_to_array(pil_img)\n",
        "    #print(org_img.shape)\n",
        "    data.append(org_img)\n",
        "    labels.append(label)\n",
        "    \n",
        "    augument=[\"noise\",\"blur\",\"affine\",\"gradient\"]\n",
        "    for l in range(0,len(augument)):\n",
        "    \n",
        "        a=itertools.combinations(augument, l+1)\n",
        "\n",
        "        for i in list(a): \n",
        "            combinations=list(i)\n",
        "            print(len(combinations))\n",
        "            temp_img = pil_img\n",
        "            for j in combinations:\n",
        "            \n",
        "                if j == 'noise':\n",
        "                    # Adding Noise image\n",
        "                    temp_img = noise_image(temp_img)\n",
        "                    \n",
        "                elif j == 'blur':\n",
        "                    # Adding Blur image\n",
        "                    temp_img = blur_image(temp_img)\n",
        "                    #imshow(blur_img)\n",
        "                    \n",
        "    \n",
        "                elif j == 'affine':\n",
        "                    open_cv_affine = np.array(pil_img)\n",
        "                    # Adding affine rotation image\n",
        "                    temp_img = affine_rotation(open_cv_affine)\n",
        "\n",
        "                elif j == 'gradient':\n",
        "                    open_cv_gradient = np.array(pil_img)\n",
        "                    # Adding gradient image\n",
        "                    temp_img = gradient_fill(open_cv_gradient)\n",
        "  \n",
        "            temp_img = img_to_array(temp_img)\n",
        "            data.append(temp_img)\n",
        "            labels.append(label)"
      ]
    },
    {
      "cell_type": "code",
      "execution_count": 16,
      "metadata": {
        "colab": {
          "base_uri": "https://localhost:8080/"
        },
        "id": "cFpIsgdHndit",
        "outputId": "096c2368-6e04-4819-dc9f-5e559a2668ff"
      },
      "outputs": [
        {
          "output_type": "stream",
          "name": "stdout",
          "text": [
            "Success\n"
          ]
        }
      ],
      "source": [
        "data = np.asarray(data, dtype=\"float\") / 255.0\n",
        "labels = np.array(labels)\n",
        "print(\"Success\")\n",
        "# partition the data into training and testing splits using 75% of\n",
        "# the data for training and the remaining 25% for testing\n",
        "(trainX, testX, trainY, testY) = train_test_split(data,labels, test_size=0.25, random_state=42)"
      ]
    },
    {
      "cell_type": "code",
      "execution_count": 17,
      "metadata": {
        "colab": {
          "base_uri": "https://localhost:8080/"
        },
        "id": "Yptdjjt4wIHZ",
        "outputId": "95c323c2-4850-42ef-ea81-a270b789e615"
      },
      "outputs": [
        {
          "output_type": "execute_result",
          "data": {
            "text/plain": [
              "(468, 105, 105, 1)"
            ]
          },
          "metadata": {},
          "execution_count": 17
        }
      ],
      "source": [
        "trainX.shape"
      ]
    },
    {
      "cell_type": "code",
      "execution_count": 18,
      "metadata": {
        "colab": {
          "base_uri": "https://localhost:8080/"
        },
        "id": "xVliZXC0wIHZ",
        "outputId": "a4c9af19-201d-4d3e-9e0a-cb1828fd9a4e"
      },
      "outputs": [
        {
          "output_type": "execute_result",
          "data": {
            "text/plain": [
              "(468,)"
            ]
          },
          "metadata": {},
          "execution_count": 18
        }
      ],
      "source": [
        "trainY.shape"
      ]
    },
    {
      "cell_type": "code",
      "execution_count": 19,
      "metadata": {
        "colab": {
          "base_uri": "https://localhost:8080/"
        },
        "id": "SnotDtkhwIHa",
        "outputId": "f7fedea9-cbb6-4829-cf48-1e7e2408482d"
      },
      "outputs": [
        {
          "output_type": "execute_result",
          "data": {
            "text/plain": [
              "(156, 105, 105, 1)"
            ]
          },
          "metadata": {},
          "execution_count": 19
        }
      ],
      "source": [
        "testX.shape"
      ]
    },
    {
      "cell_type": "code",
      "execution_count": 20,
      "metadata": {
        "colab": {
          "base_uri": "https://localhost:8080/"
        },
        "id": "UFJyXkLqwIHa",
        "outputId": "3a3baee5-536f-41c6-eff5-b439d7d8ac22"
      },
      "outputs": [
        {
          "output_type": "execute_result",
          "data": {
            "text/plain": [
              "(156,)"
            ]
          },
          "metadata": {},
          "execution_count": 20
        }
      ],
      "source": [
        "testY.shape"
      ]
    },
    {
      "cell_type": "code",
      "execution_count": 21,
      "metadata": {
        "id": "1NQr6OCQ_3qO"
      },
      "outputs": [],
      "source": [
        "# convert the labels from integers to vectors\n",
        "\n",
        "trainY = to_categorical(trainY, num_classes=5)\n",
        "testY = to_categorical(testY, num_classes=5)"
      ]
    },
    {
      "cell_type": "code",
      "execution_count": 22,
      "metadata": {
        "id": "9omeq7fqryGW"
      },
      "outputs": [],
      "source": [
        "aug = ImageDataGenerator(rotation_range=30, width_shift_range=0.1,height_shift_range=0.1, shear_range=0.2, zoom_range=0.2,horizontal_flip=True)"
      ]
    },
    {
      "cell_type": "code",
      "execution_count": 23,
      "metadata": {
        "colab": {
          "base_uri": "https://localhost:8080/",
          "height": 35
        },
        "id": "-vWihISP8kHV",
        "outputId": "95411e0e-bcf9-44aa-9bf6-d9482b0e3b5b"
      },
      "outputs": [
        {
          "output_type": "execute_result",
          "data": {
            "text/plain": [
              "'channels_last'"
            ],
            "application/vnd.google.colaboratory.intrinsic+json": {
              "type": "string"
            }
          },
          "metadata": {},
          "execution_count": 23
        }
      ],
      "source": [
        "K.image_data_format()"
      ]
    },
    {
      "cell_type": "code",
      "execution_count": 24,
      "metadata": {
        "id": "DpDdwzQguqWR"
      },
      "outputs": [],
      "source": [
        " def create_model():\n",
        "  model=Sequential()\n",
        "\n",
        "  # Cu Layers \n",
        "  model.add(Conv2D(64, kernel_size=(48, 48), activation='relu', input_shape=(105,105,1)))\n",
        "  model.add(BatchNormalization())\n",
        "  model.add(MaxPooling2D(pool_size=(2, 2)))\n",
        "\n",
        "  model.add(Conv2D(128, kernel_size=(24, 24), activation='relu'))\n",
        "  model.add(BatchNormalization())\n",
        "  model.add(MaxPooling2D(pool_size=(2, 2)))\n",
        "\n",
        "  model.add(Conv2DTranspose(128, (24,24), strides = (2,2), activation = 'relu', padding='same', kernel_initializer='uniform'))\n",
        "  model.add(UpSampling2D(size=(2, 2)))\n",
        "\n",
        "  model.add(Conv2DTranspose(64, (12,12), strides = (2,2), activation = 'relu', padding='same', kernel_initializer='uniform'))\n",
        "  model.add(UpSampling2D(size=(2, 2)))\n",
        "\n",
        "  #Cs Layers\n",
        "  model.add(Conv2D(256, kernel_size=(12, 12), activation='relu'))\n",
        "\n",
        "  model.add(Conv2D(256, kernel_size=(12, 12), activation='relu'))\n",
        "\n",
        "  model.add(Conv2D(256, kernel_size=(12, 12), activation='relu'))\n",
        "\n",
        "  model.add(Flatten())\n",
        "\n",
        "  model.add(Dense(4096, activation='relu'))\n",
        "\n",
        "  model.add(Dropout(0.5))\n",
        "\n",
        "  model.add(Dense(4096,activation='relu'))\n",
        "\n",
        "  model.add(Dropout(0.5))\n",
        "\n",
        "  model.add(Dense(2383,activation='relu'))\n",
        "\n",
        "  model.add(Dense(5, activation='softmax'))\n",
        " \n",
        "  return model"
      ]
    },
    {
      "cell_type": "code",
      "execution_count": 25,
      "metadata": {
        "id": "LSUkpdoI2J-M"
      },
      "outputs": [],
      "source": [
        "#with strategy.scope():\n",
        "#  batch_size = 128\n",
        "#  epochs = 50\n",
        "#  model= create_model()\n",
        "#  sgd = optimizers.SGD(lr=0.01, decay=1e-6, momentum=0.9, nesterov=True)\n",
        "#  model.compile(loss='mean_squared_error', optimizer=sgd, metrics=['accuracy'])\n",
        "\n",
        "#model.summary()"
      ]
    },
    {
      "cell_type": "code",
      "execution_count": 26,
      "metadata": {
        "id": "IH8DclwlLkOw"
      },
      "outputs": [],
      "source": [
        "early_stopping=callbacks.EarlyStopping(monitor='val_loss', min_delta=0, patience=10, verbose=0, mode='min')\n",
        "\n",
        "filepath=\"top_model.h5\"\n",
        "\n",
        "checkpoint = callbacks.ModelCheckpoint(filepath, monitor='val_loss', verbose=1, save_best_only=True, mode='min')\n",
        "\n",
        "callbacks_list = [early_stopping,checkpoint]"
      ]
    },
    {
      "cell_type": "code",
      "execution_count": 27,
      "metadata": {
        "id": "ZfjlSwNt73XO",
        "scrolled": true,
        "colab": {
          "base_uri": "https://localhost:8080/"
        },
        "outputId": "fab73d80-644b-4182-d45b-d3ddd82357ef"
      },
      "outputs": [
        {
          "output_type": "stream",
          "name": "stderr",
          "text": [
            "/usr/local/lib/python3.8/dist-packages/keras/optimizers/optimizer_v2/gradient_descent.py:108: UserWarning: The `lr` argument is deprecated, use `learning_rate` instead.\n",
            "  super(SGD, self).__init__(name, **kwargs)\n"
          ]
        },
        {
          "output_type": "stream",
          "name": "stdout",
          "text": [
            "Epoch 1/50\n",
            "4/4 [==============================] - ETA: 0s - loss: 0.1594 - accuracy: 0.2735\n",
            "Epoch 1: val_loss improved from inf to 0.15811, saving model to top_model.h5\n",
            "4/4 [==============================] - 25s 6s/step - loss: 0.1594 - accuracy: 0.2735 - val_loss: 0.1581 - val_accuracy: 0.4167\n",
            "Epoch 2/50\n",
            "4/4 [==============================] - ETA: 0s - loss: 0.1486 - accuracy: 0.3761\n",
            "Epoch 2: val_loss improved from 0.15811 to 0.15765, saving model to top_model.h5\n",
            "4/4 [==============================] - 27s 7s/step - loss: 0.1486 - accuracy: 0.3761 - val_loss: 0.1576 - val_accuracy: 0.4167\n",
            "Epoch 3/50\n",
            "4/4 [==============================] - ETA: 0s - loss: 0.1439 - accuracy: 0.3889\n",
            "Epoch 3: val_loss improved from 0.15765 to 0.15685, saving model to top_model.h5\n",
            "4/4 [==============================] - 24s 6s/step - loss: 0.1439 - accuracy: 0.3889 - val_loss: 0.1568 - val_accuracy: 0.4167\n",
            "Epoch 4/50\n",
            "4/4 [==============================] - ETA: 0s - loss: 0.1354 - accuracy: 0.4402\n",
            "Epoch 4: val_loss improved from 0.15685 to 0.15677, saving model to top_model.h5\n",
            "4/4 [==============================] - 18s 5s/step - loss: 0.1354 - accuracy: 0.4402 - val_loss: 0.1568 - val_accuracy: 0.4295\n",
            "Epoch 5/50\n",
            "4/4 [==============================] - ETA: 0s - loss: 0.1259 - accuracy: 0.4957\n",
            "Epoch 5: val_loss improved from 0.15677 to 0.15672, saving model to top_model.h5\n",
            "4/4 [==============================] - 15s 4s/step - loss: 0.1259 - accuracy: 0.4957 - val_loss: 0.1567 - val_accuracy: 0.5705\n",
            "Epoch 6/50\n",
            "4/4 [==============================] - ETA: 0s - loss: 0.1121 - accuracy: 0.5641\n",
            "Epoch 6: val_loss improved from 0.15672 to 0.15615, saving model to top_model.h5\n",
            "4/4 [==============================] - 15s 4s/step - loss: 0.1121 - accuracy: 0.5641 - val_loss: 0.1561 - val_accuracy: 0.5449\n",
            "Epoch 7/50\n",
            "4/4 [==============================] - ETA: 0s - loss: 0.1002 - accuracy: 0.5897\n",
            "Epoch 7: val_loss did not improve from 0.15615\n",
            "4/4 [==============================] - 1s 340ms/step - loss: 0.1002 - accuracy: 0.5897 - val_loss: 0.1574 - val_accuracy: 0.3590\n",
            "Epoch 8/50\n",
            "4/4 [==============================] - ETA: 0s - loss: 0.0898 - accuracy: 0.6560\n",
            "Epoch 8: val_loss did not improve from 0.15615\n",
            "4/4 [==============================] - 1s 329ms/step - loss: 0.0898 - accuracy: 0.6560 - val_loss: 0.1583 - val_accuracy: 0.3141\n",
            "Epoch 9/50\n",
            "4/4 [==============================] - ETA: 0s - loss: 0.0755 - accuracy: 0.7179\n",
            "Epoch 9: val_loss did not improve from 0.15615\n",
            "4/4 [==============================] - 1s 339ms/step - loss: 0.0755 - accuracy: 0.7179 - val_loss: 0.1573 - val_accuracy: 0.6410\n",
            "Epoch 10/50\n",
            "4/4 [==============================] - ETA: 0s - loss: 0.0662 - accuracy: 0.7650\n",
            "Epoch 10: val_loss did not improve from 0.15615\n",
            "4/4 [==============================] - 1s 333ms/step - loss: 0.0662 - accuracy: 0.7650 - val_loss: 0.1579 - val_accuracy: 0.2692\n",
            "Epoch 11/50\n",
            "4/4 [==============================] - ETA: 0s - loss: 0.0648 - accuracy: 0.7714\n",
            "Epoch 11: val_loss did not improve from 0.15615\n",
            "4/4 [==============================] - 1s 327ms/step - loss: 0.0648 - accuracy: 0.7714 - val_loss: 0.1631 - val_accuracy: 0.2821\n",
            "Epoch 12/50\n",
            "4/4 [==============================] - ETA: 0s - loss: 0.0714 - accuracy: 0.7179\n",
            "Epoch 12: val_loss did not improve from 0.15615\n",
            "4/4 [==============================] - 1s 334ms/step - loss: 0.0714 - accuracy: 0.7179 - val_loss: 0.1633 - val_accuracy: 0.2500\n",
            "Epoch 13/50\n",
            "4/4 [==============================] - ETA: 0s - loss: 0.0647 - accuracy: 0.7585\n",
            "Epoch 13: val_loss improved from 0.15615 to 0.15118, saving model to top_model.h5\n",
            "4/4 [==============================] - 16s 4s/step - loss: 0.0647 - accuracy: 0.7585 - val_loss: 0.1512 - val_accuracy: 0.7179\n",
            "Epoch 14/50\n",
            "4/4 [==============================] - ETA: 0s - loss: 0.0568 - accuracy: 0.7927\n",
            "Epoch 14: val_loss improved from 0.15118 to 0.14825, saving model to top_model.h5\n",
            "4/4 [==============================] - 17s 4s/step - loss: 0.0568 - accuracy: 0.7927 - val_loss: 0.1483 - val_accuracy: 0.5897\n",
            "Epoch 15/50\n",
            "4/4 [==============================] - ETA: 0s - loss: 0.0586 - accuracy: 0.7799\n",
            "Epoch 15: val_loss improved from 0.14825 to 0.14541, saving model to top_model.h5\n",
            "4/4 [==============================] - 17s 4s/step - loss: 0.0586 - accuracy: 0.7799 - val_loss: 0.1454 - val_accuracy: 0.4615\n",
            "Epoch 16/50\n",
            "4/4 [==============================] - ETA: 0s - loss: 0.0491 - accuracy: 0.8184\n",
            "Epoch 16: val_loss did not improve from 0.14541\n",
            "4/4 [==============================] - 1s 331ms/step - loss: 0.0491 - accuracy: 0.8184 - val_loss: 0.1457 - val_accuracy: 0.6987\n",
            "Epoch 17/50\n",
            "4/4 [==============================] - ETA: 0s - loss: 0.0494 - accuracy: 0.8269\n",
            "Epoch 17: val_loss did not improve from 0.14541\n",
            "4/4 [==============================] - 1s 334ms/step - loss: 0.0494 - accuracy: 0.8269 - val_loss: 0.1500 - val_accuracy: 0.5321\n",
            "Epoch 18/50\n",
            "4/4 [==============================] - ETA: 0s - loss: 0.0475 - accuracy: 0.8205\n",
            "Epoch 18: val_loss improved from 0.14541 to 0.13706, saving model to top_model.h5\n",
            "4/4 [==============================] - 15s 4s/step - loss: 0.0475 - accuracy: 0.8205 - val_loss: 0.1371 - val_accuracy: 0.6474\n",
            "Epoch 19/50\n",
            "4/4 [==============================] - ETA: 0s - loss: 0.0448 - accuracy: 0.8483\n",
            "Epoch 19: val_loss improved from 0.13706 to 0.13549, saving model to top_model.h5\n",
            "4/4 [==============================] - 15s 4s/step - loss: 0.0448 - accuracy: 0.8483 - val_loss: 0.1355 - val_accuracy: 0.6410\n",
            "Epoch 20/50\n",
            "4/4 [==============================] - ETA: 0s - loss: 0.0416 - accuracy: 0.8269\n",
            "Epoch 20: val_loss did not improve from 0.13549\n",
            "4/4 [==============================] - 1s 329ms/step - loss: 0.0416 - accuracy: 0.8269 - val_loss: 0.1420 - val_accuracy: 0.5705\n",
            "Epoch 21/50\n",
            "4/4 [==============================] - ETA: 0s - loss: 0.0417 - accuracy: 0.8547\n",
            "Epoch 21: val_loss improved from 0.13549 to 0.13112, saving model to top_model.h5\n",
            "4/4 [==============================] - 16s 4s/step - loss: 0.0417 - accuracy: 0.8547 - val_loss: 0.1311 - val_accuracy: 0.5513\n",
            "Epoch 22/50\n",
            "4/4 [==============================] - ETA: 0s - loss: 0.0334 - accuracy: 0.8718\n",
            "Epoch 22: val_loss did not improve from 0.13112\n",
            "4/4 [==============================] - 1s 331ms/step - loss: 0.0334 - accuracy: 0.8718 - val_loss: 0.1391 - val_accuracy: 0.5833\n",
            "Epoch 23/50\n",
            "4/4 [==============================] - ETA: 0s - loss: 0.0313 - accuracy: 0.8932\n",
            "Epoch 23: val_loss improved from 0.13112 to 0.12753, saving model to top_model.h5\n",
            "4/4 [==============================] - 14s 4s/step - loss: 0.0313 - accuracy: 0.8932 - val_loss: 0.1275 - val_accuracy: 0.6346\n",
            "Epoch 24/50\n",
            "4/4 [==============================] - ETA: 0s - loss: 0.0284 - accuracy: 0.9017\n",
            "Epoch 24: val_loss did not improve from 0.12753\n",
            "4/4 [==============================] - 1s 328ms/step - loss: 0.0284 - accuracy: 0.9017 - val_loss: 0.1439 - val_accuracy: 0.5256\n",
            "Epoch 25/50\n",
            "4/4 [==============================] - ETA: 0s - loss: 0.0214 - accuracy: 0.9295\n",
            "Epoch 25: val_loss did not improve from 0.12753\n",
            "4/4 [==============================] - 1s 334ms/step - loss: 0.0214 - accuracy: 0.9295 - val_loss: 0.1655 - val_accuracy: 0.4744\n",
            "Epoch 26/50\n",
            "4/4 [==============================] - ETA: 0s - loss: 0.0301 - accuracy: 0.8846\n",
            "Epoch 26: val_loss improved from 0.12753 to 0.12272, saving model to top_model.h5\n",
            "4/4 [==============================] - 14s 4s/step - loss: 0.0301 - accuracy: 0.8846 - val_loss: 0.1227 - val_accuracy: 0.4872\n",
            "Epoch 27/50\n",
            "4/4 [==============================] - ETA: 0s - loss: 0.0298 - accuracy: 0.8953\n",
            "Epoch 27: val_loss did not improve from 0.12272\n",
            "4/4 [==============================] - 1s 326ms/step - loss: 0.0298 - accuracy: 0.8953 - val_loss: 0.1396 - val_accuracy: 0.3654\n",
            "Epoch 28/50\n",
            "4/4 [==============================] - ETA: 0s - loss: 0.0305 - accuracy: 0.8974\n",
            "Epoch 28: val_loss improved from 0.12272 to 0.12118, saving model to top_model.h5\n",
            "4/4 [==============================] - 14s 4s/step - loss: 0.0305 - accuracy: 0.8974 - val_loss: 0.1212 - val_accuracy: 0.5385\n",
            "Epoch 29/50\n",
            "4/4 [==============================] - ETA: 0s - loss: 0.0244 - accuracy: 0.9295\n",
            "Epoch 29: val_loss did not improve from 0.12118\n",
            "4/4 [==============================] - 1s 337ms/step - loss: 0.0244 - accuracy: 0.9295 - val_loss: 0.1281 - val_accuracy: 0.5449\n",
            "Epoch 30/50\n",
            "4/4 [==============================] - ETA: 0s - loss: 0.0201 - accuracy: 0.9402\n",
            "Epoch 30: val_loss did not improve from 0.12118\n",
            "4/4 [==============================] - 1s 334ms/step - loss: 0.0201 - accuracy: 0.9402 - val_loss: 0.1316 - val_accuracy: 0.5321\n",
            "Epoch 31/50\n",
            "4/4 [==============================] - ETA: 0s - loss: 0.0164 - accuracy: 0.9487\n",
            "Epoch 31: val_loss did not improve from 0.12118\n",
            "4/4 [==============================] - 1s 325ms/step - loss: 0.0164 - accuracy: 0.9487 - val_loss: 0.1585 - val_accuracy: 0.2756\n",
            "Epoch 32/50\n",
            "4/4 [==============================] - ETA: 0s - loss: 0.0136 - accuracy: 0.9658\n",
            "Epoch 32: val_loss did not improve from 0.12118\n",
            "4/4 [==============================] - 1s 328ms/step - loss: 0.0136 - accuracy: 0.9658 - val_loss: 0.1735 - val_accuracy: 0.2500\n",
            "Epoch 33/50\n",
            "4/4 [==============================] - ETA: 0s - loss: 0.0116 - accuracy: 0.9679\n",
            "Epoch 33: val_loss did not improve from 0.12118\n",
            "4/4 [==============================] - 1s 329ms/step - loss: 0.0116 - accuracy: 0.9679 - val_loss: 0.1329 - val_accuracy: 0.5449\n",
            "Epoch 34/50\n",
            "4/4 [==============================] - ETA: 0s - loss: 0.0044 - accuracy: 0.9915\n",
            "Epoch 34: val_loss did not improve from 0.12118\n",
            "4/4 [==============================] - 1s 329ms/step - loss: 0.0044 - accuracy: 0.9915 - val_loss: 0.1331 - val_accuracy: 0.4231\n",
            "Epoch 35/50\n",
            "4/4 [==============================] - ETA: 0s - loss: 0.0046 - accuracy: 0.9872\n",
            "Epoch 35: val_loss did not improve from 0.12118\n",
            "4/4 [==============================] - 1s 331ms/step - loss: 0.0046 - accuracy: 0.9872 - val_loss: 0.2084 - val_accuracy: 0.2436\n",
            "Epoch 36/50\n",
            "4/4 [==============================] - ETA: 0s - loss: 0.0027 - accuracy: 0.9936\n",
            "Epoch 36: val_loss did not improve from 0.12118\n",
            "4/4 [==============================] - 1s 330ms/step - loss: 0.0027 - accuracy: 0.9936 - val_loss: 0.1595 - val_accuracy: 0.2949\n",
            "Epoch 37/50\n",
            "4/4 [==============================] - ETA: 0s - loss: 0.0019 - accuracy: 0.9979\n",
            "Epoch 37: val_loss did not improve from 0.12118\n",
            "4/4 [==============================] - 3s 699ms/step - loss: 0.0019 - accuracy: 0.9979 - val_loss: 0.1216 - val_accuracy: 0.5256\n",
            "Epoch 38/50\n",
            "4/4 [==============================] - ETA: 0s - loss: 0.0043 - accuracy: 0.9872\n",
            "Epoch 38: val_loss did not improve from 0.12118\n",
            "4/4 [==============================] - 3s 726ms/step - loss: 0.0043 - accuracy: 0.9872 - val_loss: 0.1212 - val_accuracy: 0.4744\n"
          ]
        },
        {
          "output_type": "execute_result",
          "data": {
            "text/plain": [
              "<keras.callbacks.History at 0x7f2a625d0250>"
            ]
          },
          "metadata": {},
          "execution_count": 27
        }
      ],
      "source": [
        "with strategy.scope():\n",
        "  batch_size = 128\n",
        "  epochs = 50\n",
        "  model= create_model()\n",
        "  sgd = optimizers.SGD(lr=0.01, decay=1e-6, momentum=0.9, nesterov=True)\n",
        "  model.compile(loss='mean_squared_error', steps_per_execution = 50, optimizer=sgd, metrics=['accuracy'])\n",
        "\n",
        "epochs = 50\n",
        "\n",
        "model.fit(trainX, trainY,shuffle=True,\n",
        "          batch_size=batch_size,\n",
        "          epochs=epochs,\n",
        "          verbose=1,\n",
        "          validation_data=(testX, testY),callbacks=callbacks_list)"
      ]
    },
    {
      "cell_type": "code",
      "execution_count": 28,
      "metadata": {
        "colab": {
          "base_uri": "https://localhost:8080/"
        },
        "id": "QLtRqPzhLOUF",
        "outputId": "eb78310e-36ee-42fd-dd86-7ce2f6a16024"
      },
      "outputs": [
        {
          "output_type": "stream",
          "name": "stdout",
          "text": [
            "Test loss: 0.12157919257879257\n",
            "Test accuracy: 0.4743589758872986\n"
          ]
        }
      ],
      "source": [
        "score = model.evaluate(testX, testY, verbose=0)\n",
        "print('Test loss:', score[0])\n",
        "print('Test accuracy:', score[1])"
      ]
    },
    {
      "cell_type": "code",
      "execution_count": 29,
      "metadata": {
        "id": "9oDaZS8LuWem"
      },
      "outputs": [],
      "source": [
        "from keras.models import load_model\n",
        "model = load_model('top_model.h5')"
      ]
    },
    {
      "cell_type": "code",
      "execution_count": 30,
      "metadata": {
        "id": "ltfB09zptlNN",
        "colab": {
          "base_uri": "https://localhost:8080/"
        },
        "outputId": "d0603aa2-7cac-4dac-9512-c95140260215"
      },
      "outputs": [
        {
          "output_type": "stream",
          "name": "stdout",
          "text": [
            "Test loss: 0.12064941972494125\n",
            "Test accuracy: 0.5384615659713745\n"
          ]
        }
      ],
      "source": [
        "score = model.evaluate(testX, testY, verbose=0)\n",
        "print('Test loss:', score[0])\n",
        "print('Test accuracy:', score[1])"
      ]
    },
    {
      "cell_type": "code",
      "execution_count": 31,
      "metadata": {
        "colab": {
          "base_uri": "https://localhost:8080/"
        },
        "id": "ov6w2Kmdv4dV",
        "outputId": "310fd109-7f8f-4a21-dedd-45ad1715db12"
      },
      "outputs": [
        {
          "output_type": "stream",
          "name": "stdout",
          "text": [
            "(105, 105, 1)\n"
          ]
        }
      ],
      "source": [
        "img_path=\"drive/MyDrive/sample/sample.jpg\"\n",
        "pil_im =PIL.Image.open(img_path).convert('L')\n",
        "pil_im=pil_image(img_path)\n",
        "org_img = img_to_array(pil_im)\n",
        "print(org_img.shape)"
      ]
    },
    {
      "cell_type": "code",
      "execution_count": 32,
      "metadata": {
        "id": "jN4su5FX3MzC"
      },
      "outputs": [],
      "source": [
        "def rev_conv_label(label):\n",
        "    if label == 0 :\n",
        "        return 'Lato'\n",
        "    elif label == 1:\n",
        "        return 'Raleway'\n",
        "    elif label == 2 :\n",
        "        return 'Roboto'\n",
        "    elif label == 3 :\n",
        "        return 'Sansation'\n",
        "    elif label == 4:\n",
        "        return 'Walkway'"
      ]
    },
    {
      "cell_type": "code",
      "execution_count": 33,
      "metadata": {
        "id": "q1yBSPTh0ooD"
      },
      "outputs": [],
      "source": [
        "data=[]\n",
        "data.append(org_img)\n",
        "data = np.asarray(data, dtype=\"float\") / 255.0"
      ]
    },
    {
      "cell_type": "code",
      "execution_count": 34,
      "metadata": {
        "colab": {
          "base_uri": "https://localhost:8080/"
        },
        "id": "JR2YCKaaznhT",
        "outputId": "2d5e5f21-6ed2-42f6-d94c-c0879e394afc"
      },
      "outputs": [
        {
          "output_type": "stream",
          "name": "stdout",
          "text": [
            "1/1 [==============================] - 0s 384ms/step\n"
          ]
        }
      ],
      "source": [
        "y = model.predict(data)\n",
        "y = np.round(y).astype(int)"
      ]
    },
    {
      "cell_type": "code",
      "execution_count": 35,
      "metadata": {
        "colab": {
          "base_uri": "https://localhost:8080/",
          "height": 268
        },
        "id": "SQjS-Iv80iLc",
        "outputId": "2255ab70-785d-420c-a74e-d5806c6c688e"
      },
      "outputs": [
        {
          "output_type": "display_data",
          "data": {
            "text/plain": [
              "<Figure size 432x288 with 1 Axes>"
            ],
            "image/png": "[encoded data removed]"
          },
          "metadata": {
            "needs_background": "light"
          }
        }
      ],
      "source": [
        "label = rev_conv_label(y[0,0])\n",
        "fig, ax = plt.subplots(1)\n",
        "ax.imshow(pil_im, interpolation='nearest', cmap=cm.gray)\n",
        "ax.text(5, 5, label , bbox={'facecolor': 'white', 'pad': 10})\n",
        "plt.show()"
      ]
    },
    {
      "cell_type": "code",
      "execution_count": 35,
      "metadata": {
        "id": "BWjB_Io5wIHe"
      },
      "outputs": [],
      "source": []
    }
  ],
  "metadata": {
    "accelerator": "TPU",
    "colab": {
      "provenance": []
    },
    "kernelspec": {
      "display_name": "Python 3 (ipykernel)",
      "language": "python",
      "name": "python3"
    },
    "language_info": {
      "codemirror_mode": {
        "name": "ipython",
        "version": 3
      },
      "file_extension": ".py",
      "mimetype": "text/x-python",
      "name": "python",
      "nbconvert_exporter": "python",
      "pygments_lexer": "ipython3",
      "version": "3.9.7"
    },
    "varInspector": {
      "cols": {
        "lenName": 16,
        "lenType": 16,
        "lenVar": 40
      },
      "kernels_config": {
        "python": {
          "delete_cmd_postfix": "",
          "delete_cmd_prefix": "del ",
          "library": "var_list.py",
          "varRefreshCmd": "print(var_dic_list())"
        },
        "r": {
          "delete_cmd_postfix": ") ",
          "delete_cmd_prefix": "rm(",
          "library": "var_list.r",
          "varRefreshCmd": "cat(var_dic_list()) "
        }
      },
      "types_to_exclude": [
        "module",
        "function",
        "builtin_function_or_method",
        "instance",
        "_Feature"
      ],
      "window_display": false
    },
    "gpuClass": "standard"
  },
  "nbformat": 4,
  "nbformat_minor": 0
}